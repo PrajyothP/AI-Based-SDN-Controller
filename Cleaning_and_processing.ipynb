{
  "nbformat": 4,
  "nbformat_minor": 0,
  "metadata": {
    "colab": {
      "provenance": []
    },
    "kernelspec": {
      "name": "python3",
      "display_name": "Python 3"
    },
    "language_info": {
      "name": "python"
    }
  },
  "cells": [
    {
      "cell_type": "code",
      "source": [
        "import pandas as pd\n",
        "from collections import Counter\n",
        "import numpy as np\n",
        "from sklearn.preprocessing import MinMaxScaler\n",
        "import joblib"
      ],
      "metadata": {
        "id": "5fX6zzTQtAtJ"
      },
      "execution_count": null,
      "outputs": []
    },
    {
      "cell_type": "code",
      "source": [
        "df = pd.read_csv('/Monday-WorkingHours.pcap_ISCX.csv')"
      ],
      "metadata": {
        "id": "6Ealt4M9tCsy"
      },
      "execution_count": null,
      "outputs": []
    },
    {
      "cell_type": "code",
      "source": [
        "df.info()"
      ],
      "metadata": {
        "colab": {
          "base_uri": "https://localhost:8080/"
        },
        "id": "cHFwtcU1tLOU",
        "outputId": "8025d10a-1a24-495d-c13b-4d87f33635e8"
      },
      "execution_count": null,
      "outputs": [
        {
          "output_type": "stream",
          "name": "stdout",
          "text": [
            "<class 'pandas.core.frame.DataFrame'>\n",
            "RangeIndex: 529918 entries, 0 to 529917\n",
            "Data columns (total 79 columns):\n",
            " #   Column                        Non-Null Count   Dtype  \n",
            "---  ------                        --------------   -----  \n",
            " 0    Destination Port             529918 non-null  int64  \n",
            " 1    Flow Duration                529918 non-null  int64  \n",
            " 2    Total Fwd Packets            529918 non-null  int64  \n",
            " 3    Total Backward Packets       529918 non-null  int64  \n",
            " 4   Total Length of Fwd Packets   529918 non-null  int64  \n",
            " 5    Total Length of Bwd Packets  529918 non-null  int64  \n",
            " 6    Fwd Packet Length Max        529918 non-null  int64  \n",
            " 7    Fwd Packet Length Min        529918 non-null  int64  \n",
            " 8    Fwd Packet Length Mean       529918 non-null  float64\n",
            " 9    Fwd Packet Length Std        529918 non-null  float64\n",
            " 10  Bwd Packet Length Max         529918 non-null  int64  \n",
            " 11   Bwd Packet Length Min        529918 non-null  int64  \n",
            " 12   Bwd Packet Length Mean       529918 non-null  float64\n",
            " 13   Bwd Packet Length Std        529918 non-null  float64\n",
            " 14  Flow Bytes/s                  529854 non-null  float64\n",
            " 15   Flow Packets/s               529918 non-null  float64\n",
            " 16   Flow IAT Mean                529918 non-null  float64\n",
            " 17   Flow IAT Std                 529918 non-null  float64\n",
            " 18   Flow IAT Max                 529918 non-null  int64  \n",
            " 19   Flow IAT Min                 529918 non-null  int64  \n",
            " 20  Fwd IAT Total                 529918 non-null  int64  \n",
            " 21   Fwd IAT Mean                 529918 non-null  float64\n",
            " 22   Fwd IAT Std                  529918 non-null  float64\n",
            " 23   Fwd IAT Max                  529918 non-null  int64  \n",
            " 24   Fwd IAT Min                  529918 non-null  int64  \n",
            " 25  Bwd IAT Total                 529918 non-null  int64  \n",
            " 26   Bwd IAT Mean                 529918 non-null  float64\n",
            " 27   Bwd IAT Std                  529918 non-null  float64\n",
            " 28   Bwd IAT Max                  529918 non-null  int64  \n",
            " 29   Bwd IAT Min                  529918 non-null  int64  \n",
            " 30  Fwd PSH Flags                 529918 non-null  int64  \n",
            " 31   Bwd PSH Flags                529918 non-null  int64  \n",
            " 32   Fwd URG Flags                529918 non-null  int64  \n",
            " 33   Bwd URG Flags                529918 non-null  int64  \n",
            " 34   Fwd Header Length            529918 non-null  int64  \n",
            " 35   Bwd Header Length            529918 non-null  int64  \n",
            " 36  Fwd Packets/s                 529918 non-null  float64\n",
            " 37   Bwd Packets/s                529918 non-null  float64\n",
            " 38   Min Packet Length            529918 non-null  int64  \n",
            " 39   Max Packet Length            529918 non-null  int64  \n",
            " 40   Packet Length Mean           529918 non-null  float64\n",
            " 41   Packet Length Std            529918 non-null  float64\n",
            " 42   Packet Length Variance       529918 non-null  float64\n",
            " 43  FIN Flag Count                529918 non-null  int64  \n",
            " 44   SYN Flag Count               529918 non-null  int64  \n",
            " 45   RST Flag Count               529918 non-null  int64  \n",
            " 46   PSH Flag Count               529918 non-null  int64  \n",
            " 47   ACK Flag Count               529918 non-null  int64  \n",
            " 48   URG Flag Count               529918 non-null  int64  \n",
            " 49   CWE Flag Count               529918 non-null  int64  \n",
            " 50   ECE Flag Count               529918 non-null  int64  \n",
            " 51   Down/Up Ratio                529918 non-null  int64  \n",
            " 52   Average Packet Size          529918 non-null  float64\n",
            " 53   Avg Fwd Segment Size         529918 non-null  float64\n",
            " 54   Avg Bwd Segment Size         529918 non-null  float64\n",
            " 55   Fwd Header Length.1          529918 non-null  int64  \n",
            " 56  Fwd Avg Bytes/Bulk            529918 non-null  int64  \n",
            " 57   Fwd Avg Packets/Bulk         529918 non-null  int64  \n",
            " 58   Fwd Avg Bulk Rate            529918 non-null  int64  \n",
            " 59   Bwd Avg Bytes/Bulk           529918 non-null  int64  \n",
            " 60   Bwd Avg Packets/Bulk         529918 non-null  int64  \n",
            " 61  Bwd Avg Bulk Rate             529918 non-null  int64  \n",
            " 62  Subflow Fwd Packets           529918 non-null  int64  \n",
            " 63   Subflow Fwd Bytes            529918 non-null  int64  \n",
            " 64   Subflow Bwd Packets          529918 non-null  int64  \n",
            " 65   Subflow Bwd Bytes            529918 non-null  int64  \n",
            " 66  Init_Win_bytes_forward        529918 non-null  int64  \n",
            " 67   Init_Win_bytes_backward      529918 non-null  int64  \n",
            " 68   act_data_pkt_fwd             529918 non-null  int64  \n",
            " 69   min_seg_size_forward         529918 non-null  int64  \n",
            " 70  Active Mean                   529918 non-null  float64\n",
            " 71   Active Std                   529918 non-null  float64\n",
            " 72   Active Max                   529918 non-null  int64  \n",
            " 73   Active Min                   529918 non-null  int64  \n",
            " 74  Idle Mean                     529918 non-null  float64\n",
            " 75   Idle Std                     529918 non-null  float64\n",
            " 76   Idle Max                     529918 non-null  int64  \n",
            " 77   Idle Min                     529918 non-null  int64  \n",
            " 78   Label                        529918 non-null  object \n",
            "dtypes: float64(24), int64(54), object(1)\n",
            "memory usage: 319.4+ MB\n"
          ]
        }
      ]
    },
    {
      "cell_type": "code",
      "source": [
        "df.describe()"
      ],
      "metadata": {
        "colab": {
          "base_uri": "https://localhost:8080/",
          "height": 397
        },
        "id": "ztwrU3aYtR_u",
        "outputId": "482415bf-ffd9-4174-9539-9a8e80316b81"
      },
      "execution_count": null,
      "outputs": [
        {
          "output_type": "execute_result",
          "data": {
            "text/plain": [
              "        Destination Port   Flow Duration   Total Fwd Packets  \\\n",
              "count      529918.000000    5.299180e+05       529918.000000   \n",
              "mean        10644.367112    1.038927e+07           10.390315   \n",
              "std         21390.213475    2.875195e+07          892.412791   \n",
              "min             0.000000   -1.000000e+00            1.000000   \n",
              "25%            53.000000    1.760000e+02            2.000000   \n",
              "50%            80.000000    3.130300e+04            2.000000   \n",
              "75%           443.000000    3.557448e+05            4.000000   \n",
              "max         65535.000000    1.200000e+08       219759.000000   \n",
              "\n",
              "        Total Backward Packets  Total Length of Fwd Packets  \\\n",
              "count            529918.000000                 5.299180e+05   \n",
              "mean                 11.517105                 5.324195e+02   \n",
              "std                1173.318788                 6.228642e+03   \n",
              "min                   0.000000                 0.000000e+00   \n",
              "25%                   1.000000                 1.800000e+01   \n",
              "50%                   2.000000                 6.800000e+01   \n",
              "75%                   3.000000                 1.870000e+02   \n",
              "max              291922.000000                 1.323378e+06   \n",
              "\n",
              "        Total Length of Bwd Packets   Fwd Packet Length Max  \\\n",
              "count                  5.299180e+05           529918.000000   \n",
              "mean                   1.789841e+04              190.897188   \n",
              "std                    2.675470e+06              448.833754   \n",
              "min                    0.000000e+00                0.000000   \n",
              "25%                    0.000000e+00                6.000000   \n",
              "50%                    1.440000e+02               40.000000   \n",
              "75%                    3.920000e+02               83.000000   \n",
              "max                    6.554530e+08            23360.000000   \n",
              "\n",
              "        Fwd Packet Length Min   Fwd Packet Length Mean  \\\n",
              "count           529918.000000            529918.000000   \n",
              "mean                20.277279                50.744078   \n",
              "std                 36.275793                91.964713   \n",
              "min                  0.000000                 0.000000   \n",
              "25%                  0.000000                 6.000000   \n",
              "50%                  6.000000                38.000000   \n",
              "75%                 40.000000                53.000000   \n",
              "max               2293.000000              4638.923469   \n",
              "\n",
              "        Fwd Packet Length Std  ...   act_data_pkt_fwd   min_seg_size_forward  \\\n",
              "count           529918.000000  ...      529918.000000           5.299180e+05   \n",
              "mean                57.452269  ...           7.412509          -3.614576e+03   \n",
              "std                146.518081  ...         851.762351           5.526328e+05   \n",
              "min                  0.000000  ...           0.000000          -8.388531e+07   \n",
              "25%                  0.000000  ...           0.000000           2.000000e+01   \n",
              "50%                  0.000000  ...           1.000000           3.200000e+01   \n",
              "75%                 26.162951  ...           3.000000           3.200000e+01   \n",
              "max               7125.596846  ...      213557.000000           1.260000e+02   \n",
              "\n",
              "        Active Mean    Active Std    Active Max    Active Min     Idle Mean  \\\n",
              "count  5.299180e+05  5.299180e+05  5.299180e+05  5.299180e+05  5.299180e+05   \n",
              "mean   6.843482e+04  4.321930e+04  1.453907e+05  4.380369e+04  3.463918e+06   \n",
              "std    5.872322e+05  3.971455e+05  1.028606e+06  4.993677e+05  1.297057e+07   \n",
              "min    0.000000e+00  0.000000e+00  0.000000e+00  0.000000e+00  0.000000e+00   \n",
              "25%    0.000000e+00  0.000000e+00  0.000000e+00  0.000000e+00  0.000000e+00   \n",
              "50%    0.000000e+00  0.000000e+00  0.000000e+00  0.000000e+00  0.000000e+00   \n",
              "75%    0.000000e+00  0.000000e+00  0.000000e+00  0.000000e+00  0.000000e+00   \n",
              "max    1.016597e+08  6.434950e+07  1.016597e+08  1.016597e+08  1.199997e+08   \n",
              "\n",
              "           Idle Std      Idle Max      Idle Min  \n",
              "count  5.299180e+05  5.299180e+05  5.299180e+05  \n",
              "mean   2.024408e+05  3.620657e+06  3.274066e+06  \n",
              "std    2.170149e+06  1.340649e+07  1.273216e+07  \n",
              "min    0.000000e+00  0.000000e+00  0.000000e+00  \n",
              "25%    0.000000e+00  0.000000e+00  0.000000e+00  \n",
              "50%    0.000000e+00  0.000000e+00  0.000000e+00  \n",
              "75%    0.000000e+00  0.000000e+00  0.000000e+00  \n",
              "max    7.514502e+07  1.199997e+08  1.199997e+08  \n",
              "\n",
              "[8 rows x 78 columns]"
            ],
            "text/html": [
              "\n",
              "  <div id=\"df-ba42d07f-881e-4224-9bfc-ec3bbb9eb364\" class=\"colab-df-container\">\n",
              "    <div>\n",
              "<style scoped>\n",
              "    .dataframe tbody tr th:only-of-type {\n",
              "        vertical-align: middle;\n",
              "    }\n",
              "\n",
              "    .dataframe tbody tr th {\n",
              "        vertical-align: top;\n",
              "    }\n",
              "\n",
              "    .dataframe thead th {\n",
              "        text-align: right;\n",
              "    }\n",
              "</style>\n",
              "<table border=\"1\" class=\"dataframe\">\n",
              "  <thead>\n",
              "    <tr style=\"text-align: right;\">\n",
              "      <th></th>\n",
              "      <th>Destination Port</th>\n",
              "      <th>Flow Duration</th>\n",
              "      <th>Total Fwd Packets</th>\n",
              "      <th>Total Backward Packets</th>\n",
              "      <th>Total Length of Fwd Packets</th>\n",
              "      <th>Total Length of Bwd Packets</th>\n",
              "      <th>Fwd Packet Length Max</th>\n",
              "      <th>Fwd Packet Length Min</th>\n",
              "      <th>Fwd Packet Length Mean</th>\n",
              "      <th>Fwd Packet Length Std</th>\n",
              "      <th>...</th>\n",
              "      <th>act_data_pkt_fwd</th>\n",
              "      <th>min_seg_size_forward</th>\n",
              "      <th>Active Mean</th>\n",
              "      <th>Active Std</th>\n",
              "      <th>Active Max</th>\n",
              "      <th>Active Min</th>\n",
              "      <th>Idle Mean</th>\n",
              "      <th>Idle Std</th>\n",
              "      <th>Idle Max</th>\n",
              "      <th>Idle Min</th>\n",
              "    </tr>\n",
              "  </thead>\n",
              "  <tbody>\n",
              "    <tr>\n",
              "      <th>count</th>\n",
              "      <td>529918.000000</td>\n",
              "      <td>5.299180e+05</td>\n",
              "      <td>529918.000000</td>\n",
              "      <td>529918.000000</td>\n",
              "      <td>5.299180e+05</td>\n",
              "      <td>5.299180e+05</td>\n",
              "      <td>529918.000000</td>\n",
              "      <td>529918.000000</td>\n",
              "      <td>529918.000000</td>\n",
              "      <td>529918.000000</td>\n",
              "      <td>...</td>\n",
              "      <td>529918.000000</td>\n",
              "      <td>5.299180e+05</td>\n",
              "      <td>5.299180e+05</td>\n",
              "      <td>5.299180e+05</td>\n",
              "      <td>5.299180e+05</td>\n",
              "      <td>5.299180e+05</td>\n",
              "      <td>5.299180e+05</td>\n",
              "      <td>5.299180e+05</td>\n",
              "      <td>5.299180e+05</td>\n",
              "      <td>5.299180e+05</td>\n",
              "    </tr>\n",
              "    <tr>\n",
              "      <th>mean</th>\n",
              "      <td>10644.367112</td>\n",
              "      <td>1.038927e+07</td>\n",
              "      <td>10.390315</td>\n",
              "      <td>11.517105</td>\n",
              "      <td>5.324195e+02</td>\n",
              "      <td>1.789841e+04</td>\n",
              "      <td>190.897188</td>\n",
              "      <td>20.277279</td>\n",
              "      <td>50.744078</td>\n",
              "      <td>57.452269</td>\n",
              "      <td>...</td>\n",
              "      <td>7.412509</td>\n",
              "      <td>-3.614576e+03</td>\n",
              "      <td>6.843482e+04</td>\n",
              "      <td>4.321930e+04</td>\n",
              "      <td>1.453907e+05</td>\n",
              "      <td>4.380369e+04</td>\n",
              "      <td>3.463918e+06</td>\n",
              "      <td>2.024408e+05</td>\n",
              "      <td>3.620657e+06</td>\n",
              "      <td>3.274066e+06</td>\n",
              "    </tr>\n",
              "    <tr>\n",
              "      <th>std</th>\n",
              "      <td>21390.213475</td>\n",
              "      <td>2.875195e+07</td>\n",
              "      <td>892.412791</td>\n",
              "      <td>1173.318788</td>\n",
              "      <td>6.228642e+03</td>\n",
              "      <td>2.675470e+06</td>\n",
              "      <td>448.833754</td>\n",
              "      <td>36.275793</td>\n",
              "      <td>91.964713</td>\n",
              "      <td>146.518081</td>\n",
              "      <td>...</td>\n",
              "      <td>851.762351</td>\n",
              "      <td>5.526328e+05</td>\n",
              "      <td>5.872322e+05</td>\n",
              "      <td>3.971455e+05</td>\n",
              "      <td>1.028606e+06</td>\n",
              "      <td>4.993677e+05</td>\n",
              "      <td>1.297057e+07</td>\n",
              "      <td>2.170149e+06</td>\n",
              "      <td>1.340649e+07</td>\n",
              "      <td>1.273216e+07</td>\n",
              "    </tr>\n",
              "    <tr>\n",
              "      <th>min</th>\n",
              "      <td>0.000000</td>\n",
              "      <td>-1.000000e+00</td>\n",
              "      <td>1.000000</td>\n",
              "      <td>0.000000</td>\n",
              "      <td>0.000000e+00</td>\n",
              "      <td>0.000000e+00</td>\n",
              "      <td>0.000000</td>\n",
              "      <td>0.000000</td>\n",
              "      <td>0.000000</td>\n",
              "      <td>0.000000</td>\n",
              "      <td>...</td>\n",
              "      <td>0.000000</td>\n",
              "      <td>-8.388531e+07</td>\n",
              "      <td>0.000000e+00</td>\n",
              "      <td>0.000000e+00</td>\n",
              "      <td>0.000000e+00</td>\n",
              "      <td>0.000000e+00</td>\n",
              "      <td>0.000000e+00</td>\n",
              "      <td>0.000000e+00</td>\n",
              "      <td>0.000000e+00</td>\n",
              "      <td>0.000000e+00</td>\n",
              "    </tr>\n",
              "    <tr>\n",
              "      <th>25%</th>\n",
              "      <td>53.000000</td>\n",
              "      <td>1.760000e+02</td>\n",
              "      <td>2.000000</td>\n",
              "      <td>1.000000</td>\n",
              "      <td>1.800000e+01</td>\n",
              "      <td>0.000000e+00</td>\n",
              "      <td>6.000000</td>\n",
              "      <td>0.000000</td>\n",
              "      <td>6.000000</td>\n",
              "      <td>0.000000</td>\n",
              "      <td>...</td>\n",
              "      <td>0.000000</td>\n",
              "      <td>2.000000e+01</td>\n",
              "      <td>0.000000e+00</td>\n",
              "      <td>0.000000e+00</td>\n",
              "      <td>0.000000e+00</td>\n",
              "      <td>0.000000e+00</td>\n",
              "      <td>0.000000e+00</td>\n",
              "      <td>0.000000e+00</td>\n",
              "      <td>0.000000e+00</td>\n",
              "      <td>0.000000e+00</td>\n",
              "    </tr>\n",
              "    <tr>\n",
              "      <th>50%</th>\n",
              "      <td>80.000000</td>\n",
              "      <td>3.130300e+04</td>\n",
              "      <td>2.000000</td>\n",
              "      <td>2.000000</td>\n",
              "      <td>6.800000e+01</td>\n",
              "      <td>1.440000e+02</td>\n",
              "      <td>40.000000</td>\n",
              "      <td>6.000000</td>\n",
              "      <td>38.000000</td>\n",
              "      <td>0.000000</td>\n",
              "      <td>...</td>\n",
              "      <td>1.000000</td>\n",
              "      <td>3.200000e+01</td>\n",
              "      <td>0.000000e+00</td>\n",
              "      <td>0.000000e+00</td>\n",
              "      <td>0.000000e+00</td>\n",
              "      <td>0.000000e+00</td>\n",
              "      <td>0.000000e+00</td>\n",
              "      <td>0.000000e+00</td>\n",
              "      <td>0.000000e+00</td>\n",
              "      <td>0.000000e+00</td>\n",
              "    </tr>\n",
              "    <tr>\n",
              "      <th>75%</th>\n",
              "      <td>443.000000</td>\n",
              "      <td>3.557448e+05</td>\n",
              "      <td>4.000000</td>\n",
              "      <td>3.000000</td>\n",
              "      <td>1.870000e+02</td>\n",
              "      <td>3.920000e+02</td>\n",
              "      <td>83.000000</td>\n",
              "      <td>40.000000</td>\n",
              "      <td>53.000000</td>\n",
              "      <td>26.162951</td>\n",
              "      <td>...</td>\n",
              "      <td>3.000000</td>\n",
              "      <td>3.200000e+01</td>\n",
              "      <td>0.000000e+00</td>\n",
              "      <td>0.000000e+00</td>\n",
              "      <td>0.000000e+00</td>\n",
              "      <td>0.000000e+00</td>\n",
              "      <td>0.000000e+00</td>\n",
              "      <td>0.000000e+00</td>\n",
              "      <td>0.000000e+00</td>\n",
              "      <td>0.000000e+00</td>\n",
              "    </tr>\n",
              "    <tr>\n",
              "      <th>max</th>\n",
              "      <td>65535.000000</td>\n",
              "      <td>1.200000e+08</td>\n",
              "      <td>219759.000000</td>\n",
              "      <td>291922.000000</td>\n",
              "      <td>1.323378e+06</td>\n",
              "      <td>6.554530e+08</td>\n",
              "      <td>23360.000000</td>\n",
              "      <td>2293.000000</td>\n",
              "      <td>4638.923469</td>\n",
              "      <td>7125.596846</td>\n",
              "      <td>...</td>\n",
              "      <td>213557.000000</td>\n",
              "      <td>1.260000e+02</td>\n",
              "      <td>1.016597e+08</td>\n",
              "      <td>6.434950e+07</td>\n",
              "      <td>1.016597e+08</td>\n",
              "      <td>1.016597e+08</td>\n",
              "      <td>1.199997e+08</td>\n",
              "      <td>7.514502e+07</td>\n",
              "      <td>1.199997e+08</td>\n",
              "      <td>1.199997e+08</td>\n",
              "    </tr>\n",
              "  </tbody>\n",
              "</table>\n",
              "<p>8 rows × 78 columns</p>\n",
              "</div>\n",
              "    <div class=\"colab-df-buttons\">\n",
              "\n",
              "  <div class=\"colab-df-container\">\n",
              "    <button class=\"colab-df-convert\" onclick=\"convertToInteractive('df-ba42d07f-881e-4224-9bfc-ec3bbb9eb364')\"\n",
              "            title=\"Convert this dataframe to an interactive table.\"\n",
              "            style=\"display:none;\">\n",
              "\n",
              "  <svg xmlns=\"http://www.w3.org/2000/svg\" height=\"24px\" viewBox=\"0 -960 960 960\">\n",
              "    <path d=\"M120-120v-720h720v720H120Zm60-500h600v-160H180v160Zm220 220h160v-160H400v160Zm0 220h160v-160H400v160ZM180-400h160v-160H180v160Zm440 0h160v-160H620v160ZM180-180h160v-160H180v160Zm440 0h160v-160H620v160Z\"/>\n",
              "  </svg>\n",
              "    </button>\n",
              "\n",
              "  <style>\n",
              "    .colab-df-container {\n",
              "      display:flex;\n",
              "      gap: 12px;\n",
              "    }\n",
              "\n",
              "    .colab-df-convert {\n",
              "      background-color: #E8F0FE;\n",
              "      border: none;\n",
              "      border-radius: 50%;\n",
              "      cursor: pointer;\n",
              "      display: none;\n",
              "      fill: #1967D2;\n",
              "      height: 32px;\n",
              "      padding: 0 0 0 0;\n",
              "      width: 32px;\n",
              "    }\n",
              "\n",
              "    .colab-df-convert:hover {\n",
              "      background-color: #E2EBFA;\n",
              "      box-shadow: 0px 1px 2px rgba(60, 64, 67, 0.3), 0px 1px 3px 1px rgba(60, 64, 67, 0.15);\n",
              "      fill: #174EA6;\n",
              "    }\n",
              "\n",
              "    .colab-df-buttons div {\n",
              "      margin-bottom: 4px;\n",
              "    }\n",
              "\n",
              "    [theme=dark] .colab-df-convert {\n",
              "      background-color: #3B4455;\n",
              "      fill: #D2E3FC;\n",
              "    }\n",
              "\n",
              "    [theme=dark] .colab-df-convert:hover {\n",
              "      background-color: #434B5C;\n",
              "      box-shadow: 0px 1px 3px 1px rgba(0, 0, 0, 0.15);\n",
              "      filter: drop-shadow(0px 1px 2px rgba(0, 0, 0, 0.3));\n",
              "      fill: #FFFFFF;\n",
              "    }\n",
              "  </style>\n",
              "\n",
              "    <script>\n",
              "      const buttonEl =\n",
              "        document.querySelector('#df-ba42d07f-881e-4224-9bfc-ec3bbb9eb364 button.colab-df-convert');\n",
              "      buttonEl.style.display =\n",
              "        google.colab.kernel.accessAllowed ? 'block' : 'none';\n",
              "\n",
              "      async function convertToInteractive(key) {\n",
              "        const element = document.querySelector('#df-ba42d07f-881e-4224-9bfc-ec3bbb9eb364');\n",
              "        const dataTable =\n",
              "          await google.colab.kernel.invokeFunction('convertToInteractive',\n",
              "                                                    [key], {});\n",
              "        if (!dataTable) return;\n",
              "\n",
              "        const docLinkHtml = 'Like what you see? Visit the ' +\n",
              "          '<a target=\"_blank\" href=https://colab.research.google.com/notebooks/data_table.ipynb>data table notebook</a>'\n",
              "          + ' to learn more about interactive tables.';\n",
              "        element.innerHTML = '';\n",
              "        dataTable['output_type'] = 'display_data';\n",
              "        await google.colab.output.renderOutput(dataTable, element);\n",
              "        const docLink = document.createElement('div');\n",
              "        docLink.innerHTML = docLinkHtml;\n",
              "        element.appendChild(docLink);\n",
              "      }\n",
              "    </script>\n",
              "  </div>\n",
              "\n",
              "\n",
              "    <div id=\"df-06a9136d-cc7d-4a92-9931-69ae2bd49de3\">\n",
              "      <button class=\"colab-df-quickchart\" onclick=\"quickchart('df-06a9136d-cc7d-4a92-9931-69ae2bd49de3')\"\n",
              "                title=\"Suggest charts\"\n",
              "                style=\"display:none;\">\n",
              "\n",
              "<svg xmlns=\"http://www.w3.org/2000/svg\" height=\"24px\"viewBox=\"0 0 24 24\"\n",
              "     width=\"24px\">\n",
              "    <g>\n",
              "        <path d=\"M19 3H5c-1.1 0-2 .9-2 2v14c0 1.1.9 2 2 2h14c1.1 0 2-.9 2-2V5c0-1.1-.9-2-2-2zM9 17H7v-7h2v7zm4 0h-2V7h2v10zm4 0h-2v-4h2v4z\"/>\n",
              "    </g>\n",
              "</svg>\n",
              "      </button>\n",
              "\n",
              "<style>\n",
              "  .colab-df-quickchart {\n",
              "      --bg-color: #E8F0FE;\n",
              "      --fill-color: #1967D2;\n",
              "      --hover-bg-color: #E2EBFA;\n",
              "      --hover-fill-color: #174EA6;\n",
              "      --disabled-fill-color: #AAA;\n",
              "      --disabled-bg-color: #DDD;\n",
              "  }\n",
              "\n",
              "  [theme=dark] .colab-df-quickchart {\n",
              "      --bg-color: #3B4455;\n",
              "      --fill-color: #D2E3FC;\n",
              "      --hover-bg-color: #434B5C;\n",
              "      --hover-fill-color: #FFFFFF;\n",
              "      --disabled-bg-color: #3B4455;\n",
              "      --disabled-fill-color: #666;\n",
              "  }\n",
              "\n",
              "  .colab-df-quickchart {\n",
              "    background-color: var(--bg-color);\n",
              "    border: none;\n",
              "    border-radius: 50%;\n",
              "    cursor: pointer;\n",
              "    display: none;\n",
              "    fill: var(--fill-color);\n",
              "    height: 32px;\n",
              "    padding: 0;\n",
              "    width: 32px;\n",
              "  }\n",
              "\n",
              "  .colab-df-quickchart:hover {\n",
              "    background-color: var(--hover-bg-color);\n",
              "    box-shadow: 0 1px 2px rgba(60, 64, 67, 0.3), 0 1px 3px 1px rgba(60, 64, 67, 0.15);\n",
              "    fill: var(--button-hover-fill-color);\n",
              "  }\n",
              "\n",
              "  .colab-df-quickchart-complete:disabled,\n",
              "  .colab-df-quickchart-complete:disabled:hover {\n",
              "    background-color: var(--disabled-bg-color);\n",
              "    fill: var(--disabled-fill-color);\n",
              "    box-shadow: none;\n",
              "  }\n",
              "\n",
              "  .colab-df-spinner {\n",
              "    border: 2px solid var(--fill-color);\n",
              "    border-color: transparent;\n",
              "    border-bottom-color: var(--fill-color);\n",
              "    animation:\n",
              "      spin 1s steps(1) infinite;\n",
              "  }\n",
              "\n",
              "  @keyframes spin {\n",
              "    0% {\n",
              "      border-color: transparent;\n",
              "      border-bottom-color: var(--fill-color);\n",
              "      border-left-color: var(--fill-color);\n",
              "    }\n",
              "    20% {\n",
              "      border-color: transparent;\n",
              "      border-left-color: var(--fill-color);\n",
              "      border-top-color: var(--fill-color);\n",
              "    }\n",
              "    30% {\n",
              "      border-color: transparent;\n",
              "      border-left-color: var(--fill-color);\n",
              "      border-top-color: var(--fill-color);\n",
              "      border-right-color: var(--fill-color);\n",
              "    }\n",
              "    40% {\n",
              "      border-color: transparent;\n",
              "      border-right-color: var(--fill-color);\n",
              "      border-top-color: var(--fill-color);\n",
              "    }\n",
              "    60% {\n",
              "      border-color: transparent;\n",
              "      border-right-color: var(--fill-color);\n",
              "    }\n",
              "    80% {\n",
              "      border-color: transparent;\n",
              "      border-right-color: var(--fill-color);\n",
              "      border-bottom-color: var(--fill-color);\n",
              "    }\n",
              "    90% {\n",
              "      border-color: transparent;\n",
              "      border-bottom-color: var(--fill-color);\n",
              "    }\n",
              "  }\n",
              "</style>\n",
              "\n",
              "      <script>\n",
              "        async function quickchart(key) {\n",
              "          const quickchartButtonEl =\n",
              "            document.querySelector('#' + key + ' button');\n",
              "          quickchartButtonEl.disabled = true;  // To prevent multiple clicks.\n",
              "          quickchartButtonEl.classList.add('colab-df-spinner');\n",
              "          try {\n",
              "            const charts = await google.colab.kernel.invokeFunction(\n",
              "                'suggestCharts', [key], {});\n",
              "          } catch (error) {\n",
              "            console.error('Error during call to suggestCharts:', error);\n",
              "          }\n",
              "          quickchartButtonEl.classList.remove('colab-df-spinner');\n",
              "          quickchartButtonEl.classList.add('colab-df-quickchart-complete');\n",
              "        }\n",
              "        (() => {\n",
              "          let quickchartButtonEl =\n",
              "            document.querySelector('#df-06a9136d-cc7d-4a92-9931-69ae2bd49de3 button');\n",
              "          quickchartButtonEl.style.display =\n",
              "            google.colab.kernel.accessAllowed ? 'block' : 'none';\n",
              "        })();\n",
              "      </script>\n",
              "    </div>\n",
              "\n",
              "    </div>\n",
              "  </div>\n"
            ],
            "application/vnd.google.colaboratory.intrinsic+json": {
              "type": "dataframe"
            }
          },
          "metadata": {},
          "execution_count": 19
        }
      ]
    },
    {
      "cell_type": "code",
      "source": [
        "features = [' Destination Port',' Flow Duration',' Total Fwd Packets',' Total Backward Packets','Total Length of Fwd Packets',' Total Length of Bwd Packets',' Packet Length Mean']\n",
        "df = df[features]\n",
        "df.info()"
      ],
      "metadata": {
        "colab": {
          "base_uri": "https://localhost:8080/"
        },
        "id": "6xeqNM9AtWfS",
        "outputId": "e42964c1-081f-4773-cae9-121acc915bac"
      },
      "execution_count": null,
      "outputs": [
        {
          "output_type": "stream",
          "name": "stdout",
          "text": [
            "<class 'pandas.core.frame.DataFrame'>\n",
            "RangeIndex: 529918 entries, 0 to 529917\n",
            "Data columns (total 7 columns):\n",
            " #   Column                        Non-Null Count   Dtype  \n",
            "---  ------                        --------------   -----  \n",
            " 0    Destination Port             529918 non-null  int64  \n",
            " 1    Flow Duration                529918 non-null  int64  \n",
            " 2    Total Fwd Packets            529918 non-null  int64  \n",
            " 3    Total Backward Packets       529918 non-null  int64  \n",
            " 4   Total Length of Fwd Packets   529918 non-null  int64  \n",
            " 5    Total Length of Bwd Packets  529918 non-null  int64  \n",
            " 6    Packet Length Mean           529918 non-null  float64\n",
            "dtypes: float64(1), int64(6)\n",
            "memory usage: 28.3 MB\n"
          ]
        }
      ]
    },
    {
      "cell_type": "code",
      "source": [
        "freq = Counter(df[' Destination Port'])\n",
        "seen = set()\n",
        "for v in freq.keys():\n",
        "  if freq[v] > 5000:\n",
        "    seen.add(v)\n",
        "print(seen)"
      ],
      "metadata": {
        "id": "_BqCV1G2vQYt",
        "colab": {
          "base_uri": "https://localhost:8080/"
        },
        "outputId": "5326ac28-09c8-4d03-a64a-48254b9c7b30"
      },
      "execution_count": null,
      "outputs": [
        {
          "output_type": "stream",
          "name": "stdout",
          "text": [
            "{80, 53, 123, 443}\n"
          ]
        }
      ]
    },
    {
      "cell_type": "markdown",
      "source": [
        "### Encoding ports\n",
        "| Category            | Ports                          | Encoded Value |\n",
        "| ------------------- | ------------------------------ | ------------- |\n",
        "| **Web**             | 80, 443                        | 1             |\n",
        "| **DNS**             | 53                             | 2             |\n",
        "| **Well-known**      | 0–1023 (excluding above)       | 3             |\n",
        "| **Registered**      | 1024–49151                     | 4             |\n",
        "| **Dynamic/Private** | 49152–65535                    | 5             |\n",
        "| **Unseen/rare**     | Other (e.g., during inference) | 6             |\n",
        "\n",
        "\n",
        "### Risky ports\n",
        "| Port                         | Usage / Risk                                                   |\n",
        "| ---------------------------- | -------------------------------------------------------------- |\n",
        "| **4444**                     | Metasploit default reverse shell                               |\n",
        "| **5554**                     | Sasser worm                                                    |\n",
        "| **6666–6669**                | IRC (often used by botnets)                                    |\n",
        "| **31337**                    | Back Orifice (remote access Trojan), also \"leet\" port          |\n",
        "| **12345**, **54321**         | NetBus Trojan                                                  |\n",
        "| **135**, **139**, **445**    | Windows services — targeted by worms (e.g., EternalBlue)       |\n",
        "| **8080**, **8888**, **9000** | Alternate web server ports (used in proxy abuse, malware C2)   |\n",
        "| **17**, **19**               | Chargen / Quote of the Day — abused in reflection DDoS attacks |\n"
      ],
      "metadata": {
        "id": "l9uT4OG15F8x"
      }
    },
    {
      "cell_type": "code",
      "source": [
        "web = [80,443]\n",
        "dns = [53]\n",
        "risky = set([4444, 5554, 6666, 6667, 6668, 6669, 31337, 12345, 54321, 135, 139, 445, 8080, 8888, 9000, 17, 19])\n",
        "for p in range(49152,65536):\n",
        "  risky.add(p)\n",
        "well_known = set(v for v in range(1024) if v not in risky)\n",
        "registered = set(v for v in range(1024,49152) if v not in risky)\n",
        "\n",
        "def encode_port(port):\n",
        "  if port in web:\n",
        "    return 1\n",
        "  elif port in dns:\n",
        "    return 2\n",
        "  elif port in well_known:\n",
        "    return 3\n",
        "  elif port in registered:\n",
        "    return 4\n",
        "  elif port in risky:\n",
        "    return 5\n",
        "\n",
        "\n",
        "df[' Destination Port'] = df[' Destination Port'].apply(encode_port)"
      ],
      "metadata": {
        "id": "uSN8Kngq3nDC"
      },
      "execution_count": null,
      "outputs": []
    },
    {
      "cell_type": "code",
      "source": [
        "df[' Destination Port'].value_counts()"
      ],
      "metadata": {
        "colab": {
          "base_uri": "https://localhost:8080/",
          "height": 269
        },
        "id": "LLJDPoop8xRe",
        "outputId": "23893ce7-c6a4-4158-d981-b69b6d2e9ad4"
      },
      "execution_count": null,
      "outputs": [
        {
          "output_type": "execute_result",
          "data": {
            "text/plain": [
              " Destination Port\n",
              "2    214674\n",
              "1    191786\n",
              "5     86618\n",
              "4     23250\n",
              "3     13590\n",
              "Name: count, dtype: int64"
            ],
            "text/html": [
              "<div>\n",
              "<style scoped>\n",
              "    .dataframe tbody tr th:only-of-type {\n",
              "        vertical-align: middle;\n",
              "    }\n",
              "\n",
              "    .dataframe tbody tr th {\n",
              "        vertical-align: top;\n",
              "    }\n",
              "\n",
              "    .dataframe thead th {\n",
              "        text-align: right;\n",
              "    }\n",
              "</style>\n",
              "<table border=\"1\" class=\"dataframe\">\n",
              "  <thead>\n",
              "    <tr style=\"text-align: right;\">\n",
              "      <th></th>\n",
              "      <th>count</th>\n",
              "    </tr>\n",
              "    <tr>\n",
              "      <th>Destination Port</th>\n",
              "      <th></th>\n",
              "    </tr>\n",
              "  </thead>\n",
              "  <tbody>\n",
              "    <tr>\n",
              "      <th>2</th>\n",
              "      <td>214674</td>\n",
              "    </tr>\n",
              "    <tr>\n",
              "      <th>1</th>\n",
              "      <td>191786</td>\n",
              "    </tr>\n",
              "    <tr>\n",
              "      <th>5</th>\n",
              "      <td>86618</td>\n",
              "    </tr>\n",
              "    <tr>\n",
              "      <th>4</th>\n",
              "      <td>23250</td>\n",
              "    </tr>\n",
              "    <tr>\n",
              "      <th>3</th>\n",
              "      <td>13590</td>\n",
              "    </tr>\n",
              "  </tbody>\n",
              "</table>\n",
              "</div><br><label><b>dtype:</b> int64</label>"
            ]
          },
          "metadata": {},
          "execution_count": 60
        }
      ]
    },
    {
      "cell_type": "markdown",
      "source": [
        "Using log scaling and minmax scaler"
      ],
      "metadata": {
        "id": "xDPNy2zaFiWC"
      }
    },
    {
      "cell_type": "code",
      "source": [
        "df[' Flow Duration'] = np.log1p(df[' Flow Duration'])\n",
        "scaler = MinMaxScaler()\n",
        "df[' Flow Duration'] = scaler.fit_transform(df[[' Flow Duration']])\n",
        "df[' Flow Duration'].value_counts()\n",
        "joblib.dump(scaler, 'duration_scaler.pkl')"
      ],
      "metadata": {
        "colab": {
          "base_uri": "https://localhost:8080/"
        },
        "id": "Uhtp6kJB-e-h",
        "outputId": "20bcba8d-f0d4-4e87-f648-4af52b834b20"
      },
      "execution_count": null,
      "outputs": [
        {
          "output_type": "execute_result",
          "data": {
            "text/plain": [
              "['duration_scaler.pkl']"
            ]
          },
          "metadata": {},
          "execution_count": 71
        }
      ]
    },
    {
      "cell_type": "markdown",
      "source": [
        "TOTAL FWD PACKETS"
      ],
      "metadata": {
        "id": "4v3duXbIJ4PV"
      }
    },
    {
      "cell_type": "code",
      "source": [
        "import seaborn as sns\n",
        "sns.histplot(df[' Total Fwd Packets'], bins=100)"
      ],
      "metadata": {
        "colab": {
          "base_uri": "https://localhost:8080/",
          "height": 466
        },
        "id": "INtDxe_SJaEn",
        "outputId": "3fc1e6ad-abc8-4882-8f65-645c123eafd9"
      },
      "execution_count": null,
      "outputs": [
        {
          "output_type": "execute_result",
          "data": {
            "text/plain": [
              "<Axes: xlabel=' Total Fwd Packets', ylabel='Count'>"
            ]
          },
          "metadata": {},
          "execution_count": 74
        },
        {
          "output_type": "display_data",
          "data": {
            "text/plain": [
              "<Figure size 640x480 with 1 Axes>"
            ],
            "image/png": "[encoded data removed]"
          },
          "metadata": {}
        }
      ]
    },
    {
      "cell_type": "code",
      "source": [
        "freq = Counter(df[' Total Fwd Packets'])\n",
        "seen = set()\n",
        "for v in freq.keys():\n",
        "  if freq[v] > 10000:\n",
        "    seen.add(v)\n",
        "print(seen)"
      ],
      "metadata": {
        "colab": {
          "base_uri": "https://localhost:8080/"
        },
        "id": "qspuCu08J6Mm",
        "outputId": "427fca72-46c2-4a40-d809-4f2b7fa5698c"
      },
      "execution_count": null,
      "outputs": [
        {
          "output_type": "stream",
          "name": "stdout",
          "text": [
            "{1, 2, 3, 4, 5, 10}\n"
          ]
        }
      ]
    },
    {
      "cell_type": "code",
      "source": [
        "df[' Total Fwd Packets'] = np.log1p(df[' Total Fwd Packets'])\n",
        "scaler = MinMaxScaler()\n",
        "df[' Total Fwd Packets'] = scaler.fit_transform(df[[' Total Fwd Packets']])\n",
        "joblib.dump(scaler, 'fwd_packets_scaler.pkl')"
      ],
      "metadata": {
        "colab": {
          "base_uri": "https://localhost:8080/"
        },
        "id": "ympS96yZLXzN",
        "outputId": "d6ccbb3c-62f8-4f8a-8866-d12adbc81c91"
      },
      "execution_count": null,
      "outputs": [
        {
          "output_type": "execute_result",
          "data": {
            "text/plain": [
              "['fwd_packets_scaler.pkl']"
            ]
          },
          "metadata": {},
          "execution_count": 77
        }
      ]
    },
    {
      "cell_type": "markdown",
      "source": [
        "Total BCKD PACKETS"
      ],
      "metadata": {
        "id": "aFEzpESZMNGr"
      }
    },
    {
      "cell_type": "code",
      "source": [
        "import seaborn as sns\n",
        "sns.histplot(df[' Total Backward Packets'], bins=100)"
      ],
      "metadata": {
        "colab": {
          "base_uri": "https://localhost:8080/",
          "height": 466
        },
        "id": "G5HhGd4ILoYp",
        "outputId": "42d2bc24-23a0-43db-f07a-bddd96176ccd"
      },
      "execution_count": null,
      "outputs": [
        {
          "output_type": "execute_result",
          "data": {
            "text/plain": [
              "<Axes: xlabel=' Total Backward Packets', ylabel='Count'>"
            ]
          },
          "metadata": {},
          "execution_count": 79
        },
        {
          "output_type": "display_data",
          "data": {
            "text/plain": [
              "<Figure size 640x480 with 1 Axes>"
            ],
            "image/png": "[encoded data removed]"
          },
          "metadata": {}
        }
      ]
    },
    {
      "cell_type": "code",
      "source": [
        "df[' Total Backward Packets'] = np.log1p(df[' Total Backward Packets'])\n",
        "scaler = MinMaxScaler()\n",
        "df[' Total Backward Packets'] = scaler.fit_transform(df[[' Total Backward Packets']])\n",
        "joblib.dump(scaler, 'bcd_packets_scaler.pkl')"
      ],
      "metadata": {
        "colab": {
          "base_uri": "https://localhost:8080/"
        },
        "id": "ZY6OuMYYMWgd",
        "outputId": "644261dd-3212-4cc0-9c41-bc6f90ec39e4"
      },
      "execution_count": null,
      "outputs": [
        {
          "output_type": "execute_result",
          "data": {
            "text/plain": [
              "['bcd_packets_scaler.pkl']"
            ]
          },
          "metadata": {},
          "execution_count": 80
        }
      ]
    },
    {
      "cell_type": "markdown",
      "source": [
        "TOTAL LENGTH OF FWD PACKETS"
      ],
      "metadata": {
        "id": "uEtHFMweMwAL"
      }
    },
    {
      "cell_type": "code",
      "source": [
        "import seaborn as sns\n",
        "sns.histplot(df['Total Length of Fwd Packets'], bins=100)"
      ],
      "metadata": {
        "colab": {
          "base_uri": "https://localhost:8080/",
          "height": 466
        },
        "id": "y2TcPDxFMptV",
        "outputId": "38e9d429-8831-4acb-f502-856e14c6bb7f"
      },
      "execution_count": null,
      "outputs": [
        {
          "output_type": "execute_result",
          "data": {
            "text/plain": [
              "<Axes: xlabel='Total Length of Fwd Packets', ylabel='Count'>"
            ]
          },
          "metadata": {},
          "execution_count": 83
        },
        {
          "output_type": "display_data",
          "data": {
            "text/plain": [
              "<Figure size 640x480 with 1 Axes>"
            ],
            "image/png": "[encoded data removed]"
          },
          "metadata": {}
        }
      ]
    },
    {
      "cell_type": "code",
      "source": [
        "df['Total Length of Fwd Packets'] = np.log1p(df['Total Length of Fwd Packets'])\n",
        "\n",
        "\n",
        "scaler = MinMaxScaler()\n",
        "df['Total Length of Fwd Packets'] = scaler.fit_transform(df[['Total Length of Fwd Packets']])\n",
        "\n",
        "\n",
        "joblib.dump(scaler, 'fwd_len_log_minmax_scaler.pkl')"
      ],
      "metadata": {
        "colab": {
          "base_uri": "https://localhost:8080/"
        },
        "id": "nqTgoJaQNQSX",
        "outputId": "96c490dd-5973-4072-ff55-4664d2561b92"
      },
      "execution_count": null,
      "outputs": [
        {
          "output_type": "execute_result",
          "data": {
            "text/plain": [
              "['fwd_len_log_minmax_scaler.pkl']"
            ]
          },
          "metadata": {},
          "execution_count": 85
        }
      ]
    },
    {
      "cell_type": "markdown",
      "source": [
        "TOTAL BCKD PACKETS LENGTH"
      ],
      "metadata": {
        "id": "jJgR_Y6YNpap"
      }
    },
    {
      "cell_type": "code",
      "source": [
        "import seaborn as sns\n",
        "sns.histplot(df[' Total Length of Bwd Packets'], bins=100)"
      ],
      "metadata": {
        "colab": {
          "base_uri": "https://localhost:8080/",
          "height": 466
        },
        "id": "iw-qWlb_NjcZ",
        "outputId": "75ed06bb-da95-4eda-8964-e82c5d753b7a"
      },
      "execution_count": null,
      "outputs": [
        {
          "output_type": "execute_result",
          "data": {
            "text/plain": [
              "<Axes: xlabel=' Total Length of Bwd Packets', ylabel='Count'>"
            ]
          },
          "metadata": {},
          "execution_count": 89
        },
        {
          "output_type": "display_data",
          "data": {
            "text/plain": [
              "<Figure size 640x480 with 1 Axes>"
            ],
            "image/png": "[encoded data removed]"
          },
          "metadata": {}
        }
      ]
    },
    {
      "cell_type": "code",
      "source": [
        "df[' Total Length of Bwd Packets'] = np.log1p(df[' Total Length of Bwd Packets'])\n",
        "\n",
        "\n",
        "scaler = MinMaxScaler()\n",
        "df[' Total Length of Bwd Packets'] = scaler.fit_transform(df[[' Total Length of Bwd Packets']])\n",
        "\n",
        "\n",
        "joblib.dump(scaler, 'bckd_len_log_minmax_scaler.pkl')"
      ],
      "metadata": {
        "colab": {
          "base_uri": "https://localhost:8080/"
        },
        "id": "X9tRGba_N0dw",
        "outputId": "0facd442-8fb8-460b-b394-dd6266f65cf0"
      },
      "execution_count": null,
      "outputs": [
        {
          "output_type": "execute_result",
          "data": {
            "text/plain": [
              "['bckd_len_log_minmax_scaler.pkl']"
            ]
          },
          "metadata": {},
          "execution_count": 91
        }
      ]
    },
    {
      "cell_type": "markdown",
      "source": [
        "### Packet Length Mean"
      ],
      "metadata": {
        "id": "EQpDCCxTODhN"
      }
    },
    {
      "cell_type": "code",
      "source": [
        "import seaborn as sns\n",
        "sns.histplot(df[' Packet Length Mean'], bins=100)"
      ],
      "metadata": {
        "colab": {
          "base_uri": "https://localhost:8080/",
          "height": 466
        },
        "id": "pnsO_Do8OC9U",
        "outputId": "e62b202b-2e23-47b3-e735-f3775aac888d"
      },
      "execution_count": null,
      "outputs": [
        {
          "output_type": "execute_result",
          "data": {
            "text/plain": [
              "<Axes: xlabel=' Packet Length Mean', ylabel='Count'>"
            ]
          },
          "metadata": {},
          "execution_count": 94
        },
        {
          "output_type": "display_data",
          "data": {
            "text/plain": [
              "<Figure size 640x480 with 1 Axes>"
            ],
            "image/png": "[encoded data removed]"
          },
          "metadata": {}
        }
      ]
    },
    {
      "cell_type": "code",
      "source": [
        "df[' Packet Length Mean'] = np.log1p(df[' Packet Length Mean'])\n",
        "scaler = MinMaxScaler()\n",
        "df[[' Packet Length Mean']] = scaler.fit_transform(df[[' Packet Length Mean']])\n",
        "joblib.dump(scaler, 'packet_len_log_minmax_scaler.pkl')"
      ],
      "metadata": {
        "colab": {
          "base_uri": "https://localhost:8080/"
        },
        "id": "4GLS90xxOYGX",
        "outputId": "9462fe02-00fa-4072-fa8c-5e698a929ae1"
      },
      "execution_count": null,
      "outputs": [
        {
          "output_type": "execute_result",
          "data": {
            "text/plain": [
              "['packet_len_log_minmax_scaler.pkl']"
            ]
          },
          "metadata": {},
          "execution_count": 96
        }
      ]
    },
    {
      "cell_type": "code",
      "source": [
        "sns.histplot(np.log1p(df[' Packet Length Mean']), bins=100)"
      ],
      "metadata": {
        "colab": {
          "base_uri": "https://localhost:8080/",
          "height": 466
        },
        "id": "Foo-cvJ0OfsB",
        "outputId": "e2f0812c-9119-4a0d-89dd-105f7ad1a2f6"
      },
      "execution_count": null,
      "outputs": [
        {
          "output_type": "execute_result",
          "data": {
            "text/plain": [
              "<Axes: xlabel=' Packet Length Mean', ylabel='Count'>"
            ]
          },
          "metadata": {},
          "execution_count": 97
        },
        {
          "output_type": "display_data",
          "data": {
            "text/plain": [
              "<Figure size 640x480 with 1 Axes>"
            ],
            "image/png": "[encoded data removed]"
          },
          "metadata": {}
        }
      ]
    },
    {
      "cell_type": "code",
      "source": [
        "df.to_csv('processed_data.csv', index=False)"
      ],
      "metadata": {
        "id": "lqVq8TnFOxVu"
      },
      "execution_count": null,
      "outputs": []
    }
  ]
}